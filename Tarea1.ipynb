{
  "nbformat": 4,
  "nbformat_minor": 0,
  "metadata": {
    "colab": {
      "provenance": [],
      "toc_visible": true,
      "authorship_tag": "ABX9TyMDWPnkkGnOfp2Xx45ox3+/",
      "include_colab_link": true
    },
    "kernelspec": {
      "name": "python3",
      "display_name": "Python 3"
    },
    "language_info": {
      "name": "python"
    }
  },
  "cells": [
    {
      "cell_type": "markdown",
      "metadata": {
        "id": "view-in-github",
        "colab_type": "text"
      },
      "source": [
        "<a href=\"https://colab.research.google.com/github/luisfelipe100/Datos_Masivos/blob/main/Tarea1.ipynb\" target=\"_parent\"><img src=\"https://colab.research.google.com/assets/colab-badge.svg\" alt=\"Open In Colab\"/></a>"
      ]
    },
    {
      "cell_type": "markdown",
      "source": [
        "# Instalación de Spark"
      ],
      "metadata": {
        "id": "o5Dor3MZZI2H"
      }
    },
    {
      "cell_type": "code",
      "execution_count": null,
      "metadata": {
        "colab": {
          "base_uri": "https://localhost:8080/"
        },
        "id": "TmfXe3WYXxTw",
        "outputId": "3019bb78-959f-43e3-aae8-9a0aefa602ca"
      },
      "outputs": [
        {
          "output_type": "stream",
          "name": "stdout",
          "text": [
            "\u001b[33m\r0% [Working]\u001b[0m\r            \rGet:1 https://cloud.r-project.org/bin/linux/ubuntu jammy-cran40/ InRelease [3,626 B]\n",
            "\u001b[33m\r0% [Waiting for headers] [Waiting for headers] [1 InRelease 3,626 B/3,626 B 100\u001b[0m\u001b[33m\r0% [Waiting for headers] [Waiting for headers] [Connecting to r2u.stat.illinois\u001b[0m\r                                                                               \rGet:2 https://developer.download.nvidia.com/compute/cuda/repos/ubuntu2204/x86_64  InRelease [1,581 B]\n",
            "\u001b[33m\r0% [Waiting for headers] [Waiting for headers] [Connecting to r2u.stat.illinois\u001b[0m\u001b[33m\r0% [Waiting for headers] [Waiting for headers] [Connecting to r2u.stat.illinois\u001b[0m\r                                                                               \rHit:3 https://ppa.launchpadcontent.net/deadsnakes/ppa/ubuntu jammy InRelease\n",
            "\u001b[33m\r0% [Waiting for headers] [Waiting for headers] [Connecting to r2u.stat.illinois\u001b[0m\r                                                                               \rHit:4 https://ppa.launchpadcontent.net/graphics-drivers/ppa/ubuntu jammy InRelease\n",
            "\u001b[33m\r0% [Waiting for headers] [Waiting for headers] [Connecting to r2u.stat.illinois\u001b[0m\r                                                                               \rHit:5 http://archive.ubuntu.com/ubuntu jammy InRelease\n",
            "\u001b[33m\r0% [Waiting for headers] [Waiting for headers] [Connecting to r2u.stat.illinois\u001b[0m\r                                                                               \rGet:6 http://security.ubuntu.com/ubuntu jammy-security InRelease [129 kB]\n",
            "\u001b[33m\r0% [Waiting for headers] [6 InRelease 14.2 kB/129 kB 11%] [Connecting to r2u.st\u001b[0m\r                                                                               \rHit:7 https://ppa.launchpadcontent.net/ubuntugis/ppa/ubuntu jammy InRelease\n",
            "Get:8 http://archive.ubuntu.com/ubuntu jammy-updates InRelease [128 kB]\n",
            "Get:9 https://developer.download.nvidia.com/compute/cuda/repos/ubuntu2204/x86_64  Packages [1,001 kB]\n",
            "Ign:10 https://r2u.stat.illinois.edu/ubuntu jammy InRelease\n",
            "Get:11 http://archive.ubuntu.com/ubuntu jammy-backports InRelease [127 kB]\n",
            "Get:12 https://r2u.stat.illinois.edu/ubuntu jammy Release [5,713 B]\n",
            "Get:13 https://r2u.stat.illinois.edu/ubuntu jammy Release.gpg [793 B]\n",
            "Get:14 http://security.ubuntu.com/ubuntu jammy-security/universe amd64 Packages [1,156 kB]\n",
            "Get:15 http://archive.ubuntu.com/ubuntu jammy-updates/restricted amd64 Packages [3,191 kB]\n",
            "Get:16 http://security.ubuntu.com/ubuntu jammy-security/restricted amd64 Packages [3,113 kB]\n",
            "Get:17 http://security.ubuntu.com/ubuntu jammy-security/main amd64 Packages [2,318 kB]\n",
            "Get:18 http://archive.ubuntu.com/ubuntu jammy-updates/universe amd64 Packages [1,445 kB]\n",
            "Get:19 http://archive.ubuntu.com/ubuntu jammy-updates/main amd64 Packages [2,595 kB]\n",
            "Get:20 http://archive.ubuntu.com/ubuntu jammy-backports/universe amd64 Packages [36.9 kB]\n",
            "Get:21 http://archive.ubuntu.com/ubuntu jammy-backports/main amd64 Packages [111 kB]\n",
            "Get:22 https://r2u.stat.illinois.edu/ubuntu jammy/main all Packages [8,354 kB]\n",
            "Get:23 https://r2u.stat.illinois.edu/ubuntu jammy/main amd64 Packages [2,587 kB]\n",
            "Fetched 26.3 MB in 4s (5,884 kB/s)\n",
            "Reading package lists... Done\n",
            "Building dependency tree... Done\n",
            "Reading state information... Done\n",
            "53 packages can be upgraded. Run 'apt list --upgradable' to see them.\n",
            "\u001b[1;33mW: \u001b[0mSkipping acquire of configured file 'main/source/Sources' as repository 'https://r2u.stat.illinois.edu/ubuntu jammy InRelease' does not seem to provide it (sources.list entry misspelt?)\u001b[0m\n",
            "Collecting pyspark\n",
            "  Downloading pyspark-3.5.3.tar.gz (317.3 MB)\n",
            "\u001b[2K     \u001b[90m━━━━━━━━━━━━━━━━━━━━━━━━━━━━━━━━━━━━━━━━\u001b[0m \u001b[32m317.3/317.3 MB\u001b[0m \u001b[31m3.4 MB/s\u001b[0m eta \u001b[36m0:00:00\u001b[0m\n",
            "\u001b[?25h  Preparing metadata (setup.py) ... \u001b[?25l\u001b[?25hdone\n",
            "Requirement already satisfied: py4j==0.10.9.7 in /usr/local/lib/python3.10/dist-packages (from pyspark) (0.10.9.7)\n",
            "Building wheels for collected packages: pyspark\n",
            "  Building wheel for pyspark (setup.py) ... \u001b[?25l\u001b[?25hdone\n",
            "  Created wheel for pyspark: filename=pyspark-3.5.3-py2.py3-none-any.whl size=317840625 sha256=549893fe9050acbd2261a09897b719625dbec60d35d9cf4ecdacd95e5ee38389\n",
            "  Stored in directory: /root/.cache/pip/wheels/1b/3a/92/28b93e2fbfdbb07509ca4d6f50c5e407f48dce4ddbda69a4ab\n",
            "Successfully built pyspark\n",
            "Installing collected packages: pyspark\n",
            "Successfully installed pyspark-3.5.3\n",
            "Requirement already satisfied: py4j in /usr/local/lib/python3.10/dist-packages (0.10.9.7)\n"
          ]
        }
      ],
      "source": [
        "!sudo apt update\n",
        "!apt-get install openjdk-8-jdk-headless -qq > /dev/null\n",
        "#Check this site for the latest download link https://www.apache.org/dyn/closer.lua/spark/spark-3.2.1/spark-3.2.1-bin-hadoop3.2.tgz\n",
        "!wget -q https://archive.apache.org/dist/spark/spark-3.2.1/spark-3.2.1-bin-hadoop3.2.tgz\n",
        "!tar xf spark-3.2.1-bin-hadoop3.2.tgz\n",
        "!pip install -q findspark\n",
        "!pip install pyspark\n",
        "!pip install py4j\n",
        "\n",
        "import os\n",
        "import sys\n",
        "\n",
        "import findspark\n",
        "findspark.init()\n",
        "findspark.find()\n",
        "\n",
        "import pyspark\n",
        "\n",
        "from pyspark.sql import DataFrame, SparkSession\n",
        "from typing import List\n",
        "import pyspark.sql.types as T\n",
        "import pyspark.sql.functions as F\n",
        "\n",
        "spark= SparkSession.builder.appName(\"Mi primera\").getOrCreate()"
      ]
    },
    {
      "cell_type": "markdown",
      "source": [
        "# Lectura de Datos\n",
        "\n",
        "Los datos con los que se va a trabajar es un conjunto de imágenes. El conjunto consta de 94,126 imágenes de 100x100 píxeles de 141 clases distintas, entre frutas, vegetales y nueces. Se pretende entrenar un modelo de clasificación con estas imágenes."
      ],
      "metadata": {
        "id": "bwFPVY4h2-jm"
      }
    },
    {
      "cell_type": "markdown",
      "source": [
        "## Clonación del Repositorio de GitHub\n",
        "\n",
        "Se hace clonación del repositorio de GitHub que contiene las imágenes.\n",
        "[Fruits-360](https://github.com/fruits-360/fruits-360-100x100)\n",
        "\n"
      ],
      "metadata": {
        "id": "an8927EXEbCx"
      }
    },
    {
      "cell_type": "code",
      "source": [
        "!apt-get install git"
      ],
      "metadata": {
        "colab": {
          "base_uri": "https://localhost:8080/"
        },
        "id": "ZDb5K1Qr3KsY",
        "outputId": "1c09562a-4600-4ea9-dcf9-116f981c574d"
      },
      "execution_count": null,
      "outputs": [
        {
          "output_type": "stream",
          "name": "stdout",
          "text": [
            "Reading package lists... Done\n",
            "Building dependency tree... Done\n",
            "Reading state information... Done\n",
            "git is already the newest version (1:2.34.1-1ubuntu1.11).\n",
            "0 upgraded, 0 newly installed, 0 to remove and 53 not upgraded.\n"
          ]
        }
      ]
    },
    {
      "cell_type": "code",
      "source": [
        "repository_url = \"https://github.com/fruits-360/fruits-360-100x100\"  # Replace with your repo URL\n",
        "!git clone {repository_url}"
      ],
      "metadata": {
        "colab": {
          "base_uri": "https://localhost:8080/"
        },
        "id": "XPugX8XyDSBL",
        "outputId": "637c0043-a0b9-43a2-8fd8-114a3b60228d"
      },
      "execution_count": null,
      "outputs": [
        {
          "output_type": "stream",
          "name": "stdout",
          "text": [
            "Cloning into 'fruits-360-100x100'...\n",
            "remote: Enumerating objects: 94555, done.\u001b[K\n",
            "remote: Counting objects: 100% (3809/3809), done.\u001b[K\n",
            "remote: Compressing objects: 100% (3782/3782), done.\u001b[K\n",
            "remote: Total 94555 (delta 32), reused 3804 (delta 27), pack-reused 90746 (from 1)\u001b[K\n",
            "Receiving objects: 100% (94555/94555), 723.85 MiB | 23.52 MiB/s, done.\n",
            "Resolving deltas: 100% (33/33), done.\n",
            "Updating files: 100% (94112/94112), done.\n"
          ]
        }
      ]
    },
    {
      "cell_type": "markdown",
      "source": [
        "## Acceso a los Archivos con PySpark\n",
        "\n",
        "Ahora usamos PySpark para leer los archivos dentro del repositorio clonado."
      ],
      "metadata": {
        "id": "j-bQYtZwGKhf"
      }
    },
    {
      "cell_type": "code",
      "source": [
        "import os\n",
        "from pyspark.sql import SparkSession\n",
        "\n",
        "# Assuming images are in the 'images' directory within 'fruits-360-100x100'\n",
        "repo_name = \"fruits-360-100x100\"  # Replace with your repository folder name\n",
        "\n",
        "# Fix: Use the repository name directly as the path\n",
        "# os.path.abspath() is not needed here and was causing the issue\n",
        "repo_path = \"/content/fruits-360-100x100\"\n",
        "\n",
        "# Change to the repository directory\n",
        "os.chdir(repo_path) #Change the current working directory\n",
        "\n",
        "# Get list of image file paths\n",
        "image_files = [os.path.join(root, f) for root, _, files in os.walk(repo_path) for f in files if f.endswith(('.png', '.jpg', '.jpeg'))]\n",
        "\n",
        "\n",
        "# Create an RDD from the list\n",
        "image_rdd = spark.sparkContext.parallelize(image_files)\n",
        "\n",
        "# Example action: Count the number of images\n",
        "print(f\"Number of images: {image_rdd.count()}\")"
      ],
      "metadata": {
        "colab": {
          "base_uri": "https://localhost:8080/"
        },
        "id": "Jgj1rJX4GbbO",
        "outputId": "524e7203-db9a-4e58-b462-960311d1e217"
      },
      "execution_count": null,
      "outputs": [
        {
          "output_type": "stream",
          "name": "stdout",
          "text": [
            "Number of images: 94110\n"
          ]
        }
      ]
    },
    {
      "cell_type": "code",
      "source": [
        "from PIL import Image\n",
        "\n",
        "def load_image(file_path):\n",
        "    try:\n",
        "        img = Image.open(file_path)\n",
        "        return file_path, img.size  # Return file path and image size as a tuple\n",
        "    except:\n",
        "        return file_path, None  # Return None if the file cannot be read\n",
        "\n",
        "image_sizes_rdd = image_rdd.map(load_image)\n",
        "image_sizes_rdd.take(5)  # Display the first 5 file paths and their corresponding sizes\n"
      ],
      "metadata": {
        "id": "_gzCIoz-R9QD",
        "outputId": "e9271356-2988-437c-ef92-52277af9af5f",
        "colab": {
          "base_uri": "https://localhost:8080/"
        }
      },
      "execution_count": null,
      "outputs": [
        {
          "output_type": "execute_result",
          "data": {
            "text/plain": [
              "[('/content/fruits-360-100x100/Test/Apple Crimson Snow 1/123_100.jpg',\n",
              "  (100, 100)),\n",
              " ('/content/fruits-360-100x100/Test/Apple Crimson Snow 1/125_100.jpg',\n",
              "  (100, 100)),\n",
              " ('/content/fruits-360-100x100/Test/Apple Crimson Snow 1/r_106_100.jpg',\n",
              "  (100, 100)),\n",
              " ('/content/fruits-360-100x100/Test/Apple Crimson Snow 1/r_14_100.jpg',\n",
              "  (100, 100)),\n",
              " ('/content/fruits-360-100x100/Test/Apple Crimson Snow 1/135_100.jpg',\n",
              "  (100, 100))]"
            ]
          },
          "metadata": {},
          "execution_count": 6
        }
      ]
    },
    {
      "cell_type": "code",
      "source": [
        "def get_image_pixels(file_path):\n",
        "    try:\n",
        "        img = Image.open(file_path)\n",
        "        return list(img.getdata())  # Return list of pixel values\n",
        "    except:\n",
        "        return []  # Return empty list if the image can't be opened\n",
        "\n",
        "pixel_rdd = image_rdd.flatMap(get_image_pixels)\n",
        "pixel_rdd.sample(False, 0.01).take(10)  # Display a sample of 10 RGB pixel values\n"
      ],
      "metadata": {
        "colab": {
          "base_uri": "https://localhost:8080/"
        },
        "id": "r_vy7yMN18pc",
        "outputId": "974548d6-a4b3-4a58-a127-24df08975204"
      },
      "execution_count": null,
      "outputs": [
        {
          "output_type": "execute_result",
          "data": {
            "text/plain": [
              "[(255, 255, 253),\n",
              " (214, 197, 189),\n",
              " (167, 106, 88),\n",
              " (255, 255, 253),\n",
              " (255, 254, 255),\n",
              " (174, 101, 86),\n",
              " (250, 236, 235),\n",
              " (255, 253, 255),\n",
              " (254, 255, 253),\n",
              " (252, 255, 255)]"
            ]
          },
          "metadata": {},
          "execution_count": 17
        }
      ]
    },
    {
      "cell_type": "code",
      "source": [
        "[f for f in image_files if \"Melon\" in f][0:9]"
      ],
      "metadata": {
        "colab": {
          "base_uri": "https://localhost:8080/"
        },
        "id": "fATCsCWj-ddV",
        "outputId": "14eb1ffa-9e33-4ced-d171-bff04fbf62c3"
      },
      "execution_count": null,
      "outputs": [
        {
          "output_type": "execute_result",
          "data": {
            "text/plain": [
              "['/content/fruits-360-100x100/Test/Melon Piel de Sapo 1/r2_277_100.jpg',\n",
              " '/content/fruits-360-100x100/Test/Melon Piel de Sapo 1/r2_260_100.jpg',\n",
              " '/content/fruits-360-100x100/Test/Melon Piel de Sapo 1/272_100.jpg',\n",
              " '/content/fruits-360-100x100/Test/Melon Piel de Sapo 1/r_0_100.jpg',\n",
              " '/content/fruits-360-100x100/Test/Melon Piel de Sapo 1/r2_254_100.jpg',\n",
              " '/content/fruits-360-100x100/Test/Melon Piel de Sapo 1/r_325_100.jpg',\n",
              " '/content/fruits-360-100x100/Test/Melon Piel de Sapo 1/287_100.jpg',\n",
              " '/content/fruits-360-100x100/Test/Melon Piel de Sapo 1/r_14_100.jpg',\n",
              " '/content/fruits-360-100x100/Test/Melon Piel de Sapo 1/r2_108_100.jpg']"
            ]
          },
          "metadata": {},
          "execution_count": 22
        }
      ]
    }
  ]
}